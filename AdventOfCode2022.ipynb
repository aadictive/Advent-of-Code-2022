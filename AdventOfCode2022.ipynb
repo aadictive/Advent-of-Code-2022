{
  "nbformat": 4,
  "nbformat_minor": 0,
  "metadata": {
    "colab": {
      "provenance": [],
      "authorship_tag": "ABX9TyN5cG7gviTKMMLDnj5zO/yz"
    },
    "kernelspec": {
      "name": "python3",
      "display_name": "Python 3"
    },
    "language_info": {
      "name": "python"
    }
  },
  "cells": [
    {
      "cell_type": "markdown",
      "source": [
        "# **Advent of Code 2022 - Workbook**\n",
        "\n",
        "The first puzzles will unlock on December 1st at midnight EST (UTC-5). See you then!\n"
      ],
      "metadata": {
        "id": "r4_DSArUN71h"
      }
    },
    {
      "cell_type": "code",
      "execution_count": null,
      "metadata": {
        "id": "_88y4JhBN26w"
      },
      "outputs": [],
      "source": []
    }
  ]
}