{
  "nbformat": 4,
  "nbformat_minor": 0,
  "metadata": {
    "colab": {
      "provenance": [],
      "mount_file_id": "1rIOw7_OyNdCZAupf-6HOmJn-mUSDFr0q",
      "authorship_tag": "ABX9TyPlR1oc64PG7MSQ0FSTe7MP"
    },
    "kernelspec": {
      "name": "python3",
      "display_name": "Python 3"
    },
    "language_info": {
      "name": "python"
    }
  },
  "cells": [
    {
      "cell_type": "markdown",
      "source": [
        "# **Advent of Code 2022 - Workbook**"
      ],
      "metadata": {
        "id": "xPM3uYLxA_j3"
      }
    },
    {
      "cell_type": "code",
      "source": [
        "# Before starting the Challenge - I've created some utility function that can be used quickly to solve the problems\n",
        "# Starting with Path where all our inputs shall be saved\n",
        "global path\n",
        "path = \"/content/drive/MyDrive/Colab Notebooks/AdventOfCode2022/\"\n",
        "\n",
        "\n",
        "def parse_file(filename):\n",
        "  global path\n",
        "  full_path = path + filename\n",
        "  lines = open(full_path, \"r\")\n",
        "  input = lines.readlines()\n",
        "  return input"
      ],
      "metadata": {
        "id": "efbhk5TMAr0K"
      },
      "execution_count": 35,
      "outputs": []
    },
    {
      "cell_type": "markdown",
      "source": [
        "### --- Day 1: Calorie Counting ---\n",
        "Santa's reindeer typically eat regular reindeer food, but they need a lot of magical energy to deliver presents on Christmas. For that, their favorite snack is a special type of star fruit that only grows deep in the jungle. The Elves have brought you on their annual expedition to the grove where the fruit grows.\n",
        "\n",
        "To supply enough magical energy, the expedition needs to retrieve a minimum of fifty stars by December 25th. Although the Elves assure you that the grove has plenty of fruit, you decide to grab any fruit you see along the way, just in case.\n",
        "\n",
        "Collect stars by solving puzzles. Two puzzles will be made available on each day in the Advent calendar; the second puzzle is unlocked when you complete the first. Each puzzle grants one star. Good luck!\n",
        "\n",
        "The jungle must be too overgrown and difficult to navigate in vehicles or access from the air; the Elves' expedition traditionally goes on foot. As your boats approach land, the Elves begin taking inventory of their supplies. One important consideration is food - in particular, the number of Calories each Elf is carrying (your puzzle input).\n",
        "\n",
        "The Elves take turns writing down the number of Calories contained by the various meals, snacks, rations, etc. that they've brought with them, one item per line. Each Elf separates their own inventory from the previous Elf's inventory (if any) by a blank line.\n",
        "\n",
        "For example, suppose the Elves finish writing their items' Calories and end up with the following list:\n",
        "\n",
        "```\n",
        "1000\n",
        "2000\n",
        "3000\n",
        "\n",
        "4000\n",
        "\n",
        "5000\n",
        "6000\n",
        "\n",
        "7000\n",
        "8000\n",
        "9000\n",
        "\n",
        "10000\n",
        "```\n",
        "This list represents the Calories of the food carried by five Elves:\n",
        "\n",
        "The first Elf is carrying food with 1000, 2000, and 3000 Calories, a total of 6000 Calories.\n",
        "The second Elf is carrying one food item with 4000 Calories.\n",
        "The third Elf is carrying food with 5000 and 6000 Calories, a total of 11000 Calories.\n",
        "The fourth Elf is carrying food with 7000, 8000, and 9000 Calories, a total of 24000 Calories.\n",
        "The fifth Elf is carrying one food item with 10000 Calories.\n",
        "In case the Elves get hungry and need extra snacks, they need to know which Elf to ask: they'd like to know how many Calories are being carried by the Elf carrying the most Calories. In the example above, this is 24000 (carried by the fourth Elf).\n",
        "\n",
        "Find the Elf carrying the most Calories. **How many total Calories is that Elf carrying?**\n",
        "\n",
        "\n",
        "\n"
      ],
      "metadata": {
        "id": "r4_DSArUN71h"
      }
    },
    {
      "cell_type": "code",
      "execution_count": 36,
      "metadata": {
        "id": "_88y4JhBN26w"
      },
      "outputs": [],
      "source": [
        "def day1_common_func(input):\n",
        "  # Local Variables\n",
        "  sum = 0\n",
        "  result_array = []\n",
        "\n",
        "  # Logic - Loop over each line\n",
        "  for each_line in input:\n",
        "    if each_line == \"\\n\":\n",
        "      result_array.append(sum)\n",
        "      sum = 0\n",
        "    else:\n",
        "      sum = sum + int(each_line.strip())\n",
        "  result_array.append(sum)\n",
        "  return result_array\n",
        "\n",
        "def solution_day1_part1(input_file):\n",
        "  # Read the input from file\n",
        "  input = parse_file(input_file)\n",
        "\n",
        "  result_array = day1_common_func(input)\n",
        "\n",
        "  return max(result_array)"
      ]
    },
    {
      "cell_type": "code",
      "source": [
        "# Results\n",
        "print(\"Answer for test input: \" + str(solution_day1_part1(\"test/test_input_day1_part1.txt\")))\n",
        "print(\"Answer for Day 1 Part 1 input: \" + str(solution_day1_part1(\"input_day1_part1.txt\")))"
      ],
      "metadata": {
        "colab": {
          "base_uri": "https://localhost:8080/"
        },
        "id": "jYoHv0AgFwHK",
        "outputId": "9d12e5b6-e411-4c09-c81c-c89748af7061"
      },
      "execution_count": 37,
      "outputs": [
        {
          "output_type": "stream",
          "name": "stdout",
          "text": [
            "Answer for test input: 24000\n",
            "Answer for Day 1 Part 1 input: 75501\n"
          ]
        }
      ]
    },
    {
      "cell_type": "markdown",
      "source": [
        "Your puzzle answer was 75501.\n",
        "\n",
        "The first half of this puzzle is complete! It provides one gold star: *"
      ],
      "metadata": {
        "id": "PflVCelLh4RX"
      }
    },
    {
      "cell_type": "markdown",
      "source": [
        "###--- Part Two ---\n",
        "By the time you calculate the answer to the Elves' question, they've already realized that the Elf carrying the most Calories of food might eventually run out of snacks.\n",
        "\n",
        "To avoid this unacceptable situation, the Elves would instead like to know the total Calories carried by the top three Elves carrying the most Calories. That way, even if one of those Elves runs out of snacks, they still have two backups.\n",
        "\n",
        "In the example above, the top three Elves are the fourth Elf (with 24000 Calories), then the third Elf (with 11000 Calories), then the fifth Elf (with 10000 Calories). The sum of the Calories carried by these three elves is 45000.\n",
        "\n",
        "**Find the top three Elves carrying the most Calories. How many Calories are those Elves carrying in total?**"
      ],
      "metadata": {
        "id": "raHbuHliiEah"
      }
    },
    {
      "cell_type": "code",
      "source": [
        "def solution_day1_part2(input_file):\n",
        "  # Read the input from file\n",
        "  input = parse_file(input_file)\n",
        "\n",
        "  # Local Variables\n",
        "  sum = 0\n",
        "\n",
        "  # Call the common utility logic for day 1\n",
        "  result_array = sorted(day1_common_func(input), reverse=True)\n",
        "\n",
        "  for n in range(3):\n",
        "    sum = sum + result_array[n]\n",
        "\n",
        "  return sum"
      ],
      "metadata": {
        "id": "uYkNVAxXh57P"
      },
      "execution_count": 38,
      "outputs": []
    },
    {
      "cell_type": "code",
      "source": [
        "# Results\n",
        "print(\"Answer for test input: \" + str(solution_day1_part2(\"test/test_input_day1_part1.txt\")))\n",
        "print(\"Answer for Day 1 Part 2 input: \" + str(solution_day1_part2(\"input_day1_part1.txt\")))"
      ],
      "metadata": {
        "colab": {
          "base_uri": "https://localhost:8080/"
        },
        "id": "gdoLQf7rIpU9",
        "outputId": "65944c78-07e2-4297-edba-05bbf3d9ba6e"
      },
      "execution_count": 39,
      "outputs": [
        {
          "output_type": "stream",
          "name": "stdout",
          "text": [
            "Answer for test input: 45000\n",
            "Answer for Day 1 Part 2 input: 215594\n"
          ]
        }
      ]
    },
    {
      "cell_type": "markdown",
      "source": [
        "Your puzzle answer was 215594.\n",
        "\n",
        "Both parts of this puzzle are complete! They provide two gold stars: **"
      ],
      "metadata": {
        "id": "1Jvta5RKlH7g"
      }
    }
  ]
}