{
  "nbformat": 4,
  "nbformat_minor": 0,
  "metadata": {
    "colab": {
      "provenance": [],
      "mount_file_id": "1rIOw7_OyNdCZAupf-6HOmJn-mUSDFr0q",
      "authorship_tag": "ABX9TyMYOL9rdDWEwG9v7jnLrpGR",
      "include_colab_link": true
    },
    "kernelspec": {
      "name": "python3",
      "display_name": "Python 3"
    },
    "language_info": {
      "name": "python"
    }
  },
  "cells": [
    {
      "cell_type": "markdown",
      "metadata": {
        "id": "view-in-github",
        "colab_type": "text"
      },
      "source": [
        "<a href=\"https://colab.research.google.com/github/aadictive/Advent-of-Code-2022/blob/main/AdventOfCode2022.ipynb\" target=\"_parent\"><img src=\"https://colab.research.google.com/assets/colab-badge.svg\" alt=\"Open In Colab\"/></a>"
      ]
    },
    {
      "cell_type": "markdown",
      "source": [
        "# **Advent of Code 2022 - Workbook**"
      ],
      "metadata": {
        "id": "xPM3uYLxA_j3"
      }
    },
    {
      "cell_type": "markdown",
      "source": [
        "## Index\n",
        "- [Day 1](#day-1)\n",
        "- [Day 2](#day-2)\n",
        "\n"
      ],
      "metadata": {
        "id": "-J4aIOtfaG4g"
      }
    },
    {
      "cell_type": "markdown",
      "source": [
        "## Utility Functions"
      ],
      "metadata": {
        "id": "K0Fz-z2ahQpV"
      }
    },
    {
      "cell_type": "code",
      "source": [
        "# Before starting the Challenge - I've created some utility function that can be used quickly to solve the problems\n",
        "# Starting with Path where all our inputs shall be saved\n",
        "global path\n",
        "path = \"/content/drive/MyDrive/Colab Notebooks/AdventOfCode2022/\"\n",
        "\n",
        "\n",
        "def parse_file(filename):\n",
        "  global path\n",
        "  full_path = path + filename\n",
        "  lines = open(full_path, \"r\")\n",
        "  input = lines.readlines()\n",
        "  return input"
      ],
      "metadata": {
        "id": "efbhk5TMAr0K"
      },
      "execution_count": 91,
      "outputs": []
    },
    {
      "cell_type": "markdown",
      "source": [
        "<a name=\"day-1\"></a>\n",
        "### --- Day 1: Calorie Counting ---\n",
        "Santa's reindeer typically eat regular reindeer food, but they need a lot of magical energy to deliver presents on Christmas. For that, their favorite snack is a special type of star fruit that only grows deep in the jungle. The Elves have brought you on their annual expedition to the grove where the fruit grows.\n",
        "\n",
        "To supply enough magical energy, the expedition needs to retrieve a minimum of fifty stars by December 25th. Although the Elves assure you that the grove has plenty of fruit, you decide to grab any fruit you see along the way, just in case.\n",
        "\n",
        "Collect stars by solving puzzles. Two puzzles will be made available on each day in the Advent calendar; the second puzzle is unlocked when you complete the first. Each puzzle grants one star. Good luck!\n",
        "\n",
        "The jungle must be too overgrown and difficult to navigate in vehicles or access from the air; the Elves' expedition traditionally goes on foot. As your boats approach land, the Elves begin taking inventory of their supplies. One important consideration is food - in particular, the number of Calories each Elf is carrying (your puzzle input).\n",
        "\n",
        "The Elves take turns writing down the number of Calories contained by the various meals, snacks, rations, etc. that they've brought with them, one item per line. Each Elf separates their own inventory from the previous Elf's inventory (if any) by a blank line.\n",
        "\n",
        "For example, suppose the Elves finish writing their items' Calories and end up with the following list:\n",
        "\n",
        "```\n",
        "1000\n",
        "2000\n",
        "3000\n",
        "\n",
        "4000\n",
        "\n",
        "5000\n",
        "6000\n",
        "\n",
        "7000\n",
        "8000\n",
        "9000\n",
        "\n",
        "10000\n",
        "```\n",
        "This list represents the Calories of the food carried by five Elves:\n",
        "\n",
        "The first Elf is carrying food with 1000, 2000, and 3000 Calories, a total of 6000 Calories.\n",
        "The second Elf is carrying one food item with 4000 Calories.\n",
        "The third Elf is carrying food with 5000 and 6000 Calories, a total of 11000 Calories.\n",
        "The fourth Elf is carrying food with 7000, 8000, and 9000 Calories, a total of 24000 Calories.\n",
        "The fifth Elf is carrying one food item with 10000 Calories.\n",
        "In case the Elves get hungry and need extra snacks, they need to know which Elf to ask: they'd like to know how many Calories are being carried by the Elf carrying the most Calories. In the example above, this is 24000 (carried by the fourth Elf).\n",
        "\n",
        "Find the Elf carrying the most Calories. **How many total Calories is that Elf carrying?**\n",
        "\n",
        "\n",
        "\n"
      ],
      "metadata": {
        "id": "r4_DSArUN71h"
      }
    },
    {
      "cell_type": "code",
      "execution_count": 92,
      "metadata": {
        "id": "_88y4JhBN26w"
      },
      "outputs": [],
      "source": [
        "def day1_common_func(input):\n",
        "  # Local Variables\n",
        "  sum = 0\n",
        "  result_array = []\n",
        "\n",
        "  # Logic - Loop over each line\n",
        "  for each_line in input:\n",
        "    if each_line == \"\\n\":\n",
        "      result_array.append(sum)\n",
        "      sum = 0\n",
        "    else:\n",
        "      sum = sum + int(each_line.strip())\n",
        "  result_array.append(sum)\n",
        "  return result_array\n",
        "\n",
        "def solution_day1_part1(input_file):\n",
        "  # Read the input from file\n",
        "  input = parse_file(input_file)\n",
        "\n",
        "  # Call the common utility logic for day 1\n",
        "  result_array = day1_common_func(input)\n",
        "\n",
        "  return max(result_array)"
      ]
    },
    {
      "cell_type": "code",
      "source": [
        "# Results\n",
        "print(\"Answer for test input: \" + str(solution_day1_part1(\"test/test_input_day1_part1.txt\")))\n",
        "print(\"Answer for Day 1 Part 1 input: \" + str(solution_day1_part1(\"input_day1_part1.txt\")))"
      ],
      "metadata": {
        "colab": {
          "base_uri": "https://localhost:8080/"
        },
        "id": "jYoHv0AgFwHK",
        "outputId": "8af706f5-9d6a-42eb-d6c1-dc59dfca4123"
      },
      "execution_count": 93,
      "outputs": [
        {
          "output_type": "stream",
          "name": "stdout",
          "text": [
            "Answer for test input: 24000\n",
            "Answer for Day 1 Part 1 input: 75501\n"
          ]
        }
      ]
    },
    {
      "cell_type": "markdown",
      "source": [
        "Your puzzle answer was 75501.\n",
        "\n",
        "The first half of this puzzle is complete! It provides one gold star: *"
      ],
      "metadata": {
        "id": "PflVCelLh4RX"
      }
    },
    {
      "cell_type": "markdown",
      "source": [
        "###--- Part Two ---\n",
        "By the time you calculate the answer to the Elves' question, they've already realized that the Elf carrying the most Calories of food might eventually run out of snacks.\n",
        "\n",
        "To avoid this unacceptable situation, the Elves would instead like to know the total Calories carried by the top three Elves carrying the most Calories. That way, even if one of those Elves runs out of snacks, they still have two backups.\n",
        "\n",
        "In the example above, the top three Elves are the fourth Elf (with 24000 Calories), then the third Elf (with 11000 Calories), then the fifth Elf (with 10000 Calories). The sum of the Calories carried by these three elves is 45000.\n",
        "\n",
        "**Find the top three Elves carrying the most Calories. How many Calories are those Elves carrying in total?**"
      ],
      "metadata": {
        "id": "raHbuHliiEah"
      }
    },
    {
      "cell_type": "code",
      "source": [
        "def solution_day1_part2(input_file):\n",
        "  # Read the input from file\n",
        "  input = parse_file(input_file)\n",
        "\n",
        "  # Local Variables\n",
        "  sum = 0\n",
        "\n",
        "  # Call the common utility logic for day 1\n",
        "  result_array = sorted(day1_common_func(input), reverse=True)\n",
        "\n",
        "  # Code - Logic\n",
        "  for n in range(3):\n",
        "    sum = sum + result_array[n]\n",
        "\n",
        "  return sum"
      ],
      "metadata": {
        "id": "uYkNVAxXh57P"
      },
      "execution_count": 94,
      "outputs": []
    },
    {
      "cell_type": "code",
      "source": [
        "# Results\n",
        "print(\"Answer for test input: \" + str(solution_day1_part2(\"test/test_input_day1_part1.txt\")))\n",
        "print(\"Answer for Day 1 Part 2 input: \" + str(solution_day1_part2(\"input_day1_part1.txt\")))"
      ],
      "metadata": {
        "colab": {
          "base_uri": "https://localhost:8080/"
        },
        "id": "gdoLQf7rIpU9",
        "outputId": "62a3ee01-1d0e-4b8a-b30b-39a22cdc471e"
      },
      "execution_count": 95,
      "outputs": [
        {
          "output_type": "stream",
          "name": "stdout",
          "text": [
            "Answer for test input: 45000\n",
            "Answer for Day 1 Part 2 input: 215594\n"
          ]
        }
      ]
    },
    {
      "cell_type": "markdown",
      "source": [
        "Your puzzle answer was 215594.\n",
        "\n",
        "Both parts of this puzzle are complete! They provide two gold stars: **"
      ],
      "metadata": {
        "id": "1Jvta5RKlH7g"
      }
    },
    {
      "cell_type": "markdown",
      "source": [
        "<a name=\"day-2\"></a>\n",
        "### --- Day 2: Rock Paper Scissors ---\n",
        "The Elves begin to set up camp on the beach. To decide whose tent gets to be closest to the snack storage, a giant Rock Paper Scissors tournament is already in progress.\n",
        "\n",
        "Rock Paper Scissors is a game between two players. Each game contains many rounds; in each round, the players each simultaneously choose one of Rock, Paper, or Scissors using a hand shape. Then, a winner for that round is selected: Rock defeats Scissors, Scissors defeats Paper, and Paper defeats Rock. If both players choose the same shape, the round instead ends in a draw.\n",
        "\n",
        "Appreciative of your help yesterday, one Elf gives you an encrypted strategy guide (your puzzle input) that they say will be sure to help you win. \"The first column is what your opponent is going to play: A for Rock, B for Paper, and C for Scissors. The second column--\" Suddenly, the Elf is called away to help with someone's tent.\n",
        "\n",
        "The second column, you reason, must be what you should play in response: X for Rock, Y for Paper, and Z for Scissors. Winning every time would be suspicious, so the responses must have been carefully chosen.\n",
        "\n",
        "The winner of the whole tournament is the player with the highest score. Your total score is the sum of your scores for each round. The score for a single round is the score for the shape you selected (1 for Rock, 2 for Paper, and 3 for Scissors) plus the score for the outcome of the round (0 if you lost, 3 if the round was a draw, and 6 if you won).\n",
        "\n",
        "Since you can't be sure if the Elf is trying to help you or trick you, you should calculate the score you would get if you were to follow the strategy guide.\n",
        "\n",
        "For example, suppose you were given the following strategy guide:\n",
        "```\n",
        "A Y\n",
        "B X\n",
        "C Z\n",
        "```\n",
        "This strategy guide predicts and recommends the following:\n",
        "\n",
        "-- In the first round, your opponent will choose Rock (A), and you should choose Paper (Y). This ends in a win for you with a score of 8 (2 because you chose Paper + 6 because you won).\n",
        "-- In the second round, your opponent will choose Paper (B), and you should choose Rock (X). This ends in a loss for you with a score of 1 (1 + 0).\n",
        "-- The third round is a draw with both players choosing Scissors, giving you a score of 3 + 3 = 6.\n",
        "In this example, if you were to follow the strategy guide, you would get a total score of 15 (8 + 1 + 6).\n",
        "\n",
        "**What would your total score be if everything goes exactly according to your strategy guide?**"
      ],
      "metadata": {
        "id": "a_6-gcxFPV2A"
      }
    },
    {
      "cell_type": "code",
      "source": [
        "def solution_day2_part1(input_file):\n",
        "  # Read the input from file\n",
        "  input = parse_file(input_file)\n",
        "\n",
        "  # Declarations\n",
        "  dict_draw = { 'X': 'A', 'Y': 'B', 'Z': 'C'}\n",
        "  dict_win = { 'X': 'C', 'Y' : 'A', 'Z': 'B'}\n",
        "  dict_choice_weight = { 'X': 1, 'Y' : 2, 'Z': 3}\n",
        "  sum = 0\n",
        "  win = 6\n",
        "  draw = 3\n",
        "  lose = 0\n",
        "\n",
        "  # Code - Logic\n",
        "  for line in input:\n",
        "    line = line.strip()\n",
        "    round_array = line.split(' ')\n",
        "    if dict_win[round_array[1]] == round_array[0]:\n",
        "      sum = sum + win + dict_choice_weight[round_array[1]]\n",
        "    elif dict_draw[round_array[1]] == round_array[0]:\n",
        "      sum = sum + draw + dict_choice_weight[round_array[1]]\n",
        "    else:\n",
        "      sum = sum + lose + dict_choice_weight[round_array[1]]\n",
        "  return sum"
      ],
      "metadata": {
        "id": "wvgNeVluPith"
      },
      "execution_count": 96,
      "outputs": []
    },
    {
      "cell_type": "code",
      "source": [
        "# Results\n",
        "print(\"Answer for test input: \" + str(solution_day2_part1(\"test/test_input_day2.txt\")))\n",
        "print(\"Answer for Day 2 Part 1 input: \" + str(solution_day2_part1(\"input_day2.txt\")))"
      ],
      "metadata": {
        "colab": {
          "base_uri": "https://localhost:8080/"
        },
        "id": "5wqjgywRP6Sh",
        "outputId": "40c2c729-9ff7-4850-8a85-367ad5bc7b01"
      },
      "execution_count": 97,
      "outputs": [
        {
          "output_type": "stream",
          "name": "stdout",
          "text": [
            "Answer for test input: 15\n",
            "Answer for Day 2 Part 1 input: 11666\n"
          ]
        }
      ]
    },
    {
      "cell_type": "markdown",
      "source": [
        "Your puzzle answer was 11666.\n",
        "\n",
        "The first half of this puzzle is complete! It provides one gold star: *\n",
        "\n",
        "### --- Part Two ---\n",
        "The Elf finishes helping with the tent and sneaks back over to you. \"Anyway, the second column says how the round needs to end: X means you need to lose, Y means you need to end the round in a draw, and Z means you need to win. Good luck!\"\n",
        "\n",
        "The total score is still calculated in the same way, but now you need to figure out what shape to choose so the round ends as indicated. The example above now goes like this:\n",
        "\n",
        "In the first round, your opponent will choose Rock (A), and you need the round to end in a draw (Y), so you also choose Rock. This gives you a score of 1 + 3 = 4.\n",
        "In the second round, your opponent will choose Paper (B), and you choose Rock so you lose (X) with a score of 1 + 0 = 1.\n",
        "In the third round, you will defeat your opponent's Scissors with Rock for a score of 1 + 6 = 7.\n",
        "Now that you're correctly decrypting the ultra top secret strategy guide, you would get a total score of 12.\n",
        "\n",
        "Following the Elf's instructions for the second column, **what would your total score be if everything goes exactly according to your strategy guide?**"
      ],
      "metadata": {
        "id": "IWgrjdsRViqX"
      }
    },
    {
      "cell_type": "code",
      "source": [
        "def solution_day2_part2(input_file):\n",
        "  # Read the input from file\n",
        "  input = parse_file(input_file)\n",
        "\n",
        "  # Declarations\n",
        "  dict_draw = { 'A': 'X', 'B': 'Y', 'C': 'Z'}\n",
        "  dict_win = { 'C': 'X', 'A' : 'Y', 'B': 'Z'}\n",
        "  dict_lose = {'A': 'Z', 'B':'X', 'C': 'Y'}\n",
        "  dict_choice_weight = { 'X': 1, 'Y' : 2, 'Z': 3}\n",
        "  dict_expected_result = { 'X': 'Lose', 'Y' : 'Draw', 'Z': 'Win'}\n",
        "  sum = 0\n",
        "  win = 6\n",
        "  draw = 3\n",
        "  lose = 0 \n",
        "\n",
        "  # Code - Logic\n",
        "  for line in input:\n",
        "    line = line.strip()\n",
        "    round_array = line.split(' ')\n",
        "    inp = dict_expected_result[round_array[1]]\n",
        "    if inp == 'Lose':\n",
        "      sum = sum + lose + dict_choice_weight[dict_lose[round_array[0]]]\n",
        "    elif inp == 'Draw':\n",
        "      sum = sum + draw + dict_choice_weight[dict_draw[round_array[0]]]\n",
        "    else:\n",
        "      sum = sum + win + dict_choice_weight[dict_win[round_array[0]]]\n",
        "  return sum"
      ],
      "metadata": {
        "id": "5QWEPUALVl17"
      },
      "execution_count": 98,
      "outputs": []
    },
    {
      "cell_type": "code",
      "source": [
        "# Results\n",
        "print(\"Answer for test input: \" + str(solution_day2_part2(\"test/test_input_day2.txt\")))\n",
        "print(\"Answer for Day 2 Part 2 input: \" + str(solution_day2_part1(\"input_day2.txt\")))"
      ],
      "metadata": {
        "colab": {
          "base_uri": "https://localhost:8080/"
        },
        "id": "WO0Cip23ZWuc",
        "outputId": "1cf55ef1-af67-4d6b-dfeb-0d5821eb6201"
      },
      "execution_count": 99,
      "outputs": [
        {
          "output_type": "stream",
          "name": "stdout",
          "text": [
            "Answer for test input: 12\n",
            "Answer for Day 2 Part 2 input: 11666\n"
          ]
        }
      ]
    },
    {
      "cell_type": "markdown",
      "source": [
        "Your puzzle answer was 12767.\n",
        "\n",
        "Both parts of this puzzle are complete! They provide two gold stars: **"
      ],
      "metadata": {
        "id": "RB1t062lZo1O"
      }
    }
  ]
}